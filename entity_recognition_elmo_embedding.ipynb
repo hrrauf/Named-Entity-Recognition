{
 "cells": [
  {
   "cell_type": "code",
   "execution_count": 1,
   "metadata": {},
   "outputs": [
    {
     "name": "stderr",
     "output_type": "stream",
     "text": [
      "Using TensorFlow backend.\n"
     ]
    }
   ],
   "source": [
    "import tensorflow as tf\n",
    "import tensorflow_hub as hub\n",
    "from keras import backend as K\n",
    "\n",
    "sess = tf.Session()\n",
    "K.set_session(sess)\n",
    "elmo_model = hub.Module(\"https://tfhub.dev/google/elmo/2\", trainable=True)\n",
    "sess.run(tf.global_variables_initializer())\n",
    "sess.run(tf.tables_initializer())"
   ]
  },
  {
   "cell_type": "code",
   "execution_count": 2,
   "metadata": {},
   "outputs": [
    {
     "data": {
      "text/plain": [
       "'\\nRequirements:\\n\\ntensorflow >= 1.15.0\\nnumpy\\npandas\\n\\n'"
      ]
     },
     "execution_count": 2,
     "metadata": {},
     "output_type": "execute_result"
    }
   ],
   "source": [
    "\n",
    "\"\"\"\n",
    "Requirements:\n",
    "\n",
    "tensorflow >= 1.15.0\n",
    "numpy\n",
    "pandas\n",
    "\n",
    "\"\"\""
   ]
  },
  {
   "cell_type": "code",
   "execution_count": 3,
   "metadata": {},
   "outputs": [],
   "source": [
    "import numpy as np\n",
    "import pandas as pd\n",
    "import matplotlib.pyplot as plt\n",
    "\n",
    "\n",
    "###################################### Data Preparation ######################################\n",
    "class DataLoader(object):\n",
    "    def __init__(self, filename):\n",
    "        \n",
    "        '''\n",
    "           Initiates a data class\n",
    "              max_len : max length of the sequence\n",
    "              tag2indx : mapping from tags to indices\n",
    "              sentences: sequences\n",
    "              labels: labels of tags\n",
    "        \n",
    "        \n",
    "        '''\n",
    "        \n",
    "        self.data = pd.read_csv(filename, header = None, delimiter = \"\\t\")\n",
    "        self.data = self.data.rename(columns = {0: \"Word\", 1: \"Tag\"})\n",
    "        self.tags =  np.unique(self.data['Tag'].to_list())\n",
    "        self.data = self.data.fillna(\"END\")\n",
    "        self.pos=1\n",
    "        self.max_len = 50\n",
    "        self.sentences =[]\n",
    "        self.labels = []\n",
    "        self.tags2index = {t:i for i, t in enumerate(self.tags)}\n",
    "        tempx = []\n",
    "        tempy = []\n",
    "        \n",
    "        '''\n",
    "        \n",
    "           combining words into sentences and padding sentences to be equal to max_len\n",
    "           populating self.sentences and self.labels\n",
    "           \n",
    "        '''\n",
    "        for w,t in self.data.values:\n",
    "            if w==\"END\" and t==\"END\":\n",
    "                if len(tempx) <self.max_len:\n",
    "                   tempx  += [\"PADword\"]*(self.max_len - len(tempx))\n",
    "                   tempy  += [self.tags2index[\"O\"]]*(self.max_len - len(tempy))\n",
    "                    \n",
    "                self.sentences.append(tempx[:self.max_len])\n",
    "                self.labels.append(tempy[:self.max_len])\n",
    "                tempx =[]\n",
    "                tempy =[]\n",
    "            elif w!=\"END\" and t!=\"END\":\n",
    "                tempx.append(w)\n",
    "                tempy.append(self.tags2index[t])\n",
    "        del self.data\n",
    "\n",
    "    \n",
    "    def plot_histogram(self):\n",
    "        \n",
    "        '''\n",
    "        \n",
    "           plot histogram fo length of all sentences\n",
    "           i.e helpful for deciding appropriate max_len value\n",
    "        '''\n",
    "        \n",
    "        plt.figure()\n",
    "        plt.hist([ len(d) for d in self.sentences])\n",
    "        "
   ]
  },
  {
   "cell_type": "code",
   "execution_count": 4,
   "metadata": {},
   "outputs": [],
   "source": [
    "def space_remove(x):\n",
    "    del x"
   ]
  },
  {
   "cell_type": "code",
   "execution_count": 5,
   "metadata": {},
   "outputs": [
    {
     "name": "stdout",
     "output_type": "stream",
     "text": [
      "Total Number of Sentences: 2162\n"
     ]
    },
    {
     "data": {
      "text/plain": [
       "<Figure size 432x288 with 0 Axes>"
      ]
     },
     "metadata": {},
     "output_type": "display_data"
    },
    {
     "data": {
      "image/png": "[encoded data removed]",
      "text/plain": [
       "<Figure size 432x288 with 1 Axes>"
      ]
     },
     "metadata": {
      "needs_background": "light"
     },
     "output_type": "display_data"
    }
   ],
   "source": [
    "        \n",
    "\n",
    "d = DataLoader(\"twitter_ritter.txt\")\n",
    "\n",
    "plt.figure()\n",
    "d.plot_histogram()\n",
    "\n",
    "X , Y = np.matrix(d.sentences) , np.matrix(d.labels)\n",
    "\n",
    "n_sentences = X.shape[0]\n",
    "print(\"Total Number of Sentences: {}\".format(n_sentences))\n",
    "\n",
    "'''\n",
    "  Train Test Split\n",
    "      80%  training data\n",
    "      20%  testing data\n",
    "      \n",
    "'''\n",
    "split = int(0.8*n_sentences)\n",
    "\n",
    "Xtr, Xts, Ytr, Yts = X[:split, ...], X[split:, ...],  Y[:split, ...], Y[split:, ...]\n",
    "\n",
    "'''\n",
    "   Free space on the ram\n",
    "\n",
    "'''\n",
    "space_remove(X)\n",
    "space_remove(Y)"
   ]
  },
  {
   "cell_type": "code",
   "execution_count": 6,
   "metadata": {},
   "outputs": [],
   "source": [
    "################## Set Batch Size ###################\n",
    "\n",
    "batch_size = 2\n",
    "\n",
    "######################### Elmo Embedding function ##############\n",
    "\n",
    "def ElmoEmbedding(x):\n",
    "    \n",
    "    '''\n",
    "        Returns Elmo Embedding corresponding to each word in the sentence\n",
    "         input:\n",
    "             sentence\n",
    "         output: \n",
    "            embedding of each word of the sentence\n",
    "    '''\n",
    "    return elmo_model(inputs={\"tokens\": tf.squeeze(tf.cast(x,    tf.string)),\"sequence_len\": tf.constant(batch_size*[d.max_len])\n",
    "                     },\n",
    "                      signature=\"tokens\",\n",
    "                      as_dict=True)[\"elmo\"]"
   ]
  },
  {
   "cell_type": "code",
   "execution_count": 7,
   "metadata": {},
   "outputs": [],
   "source": [
    "from keras.models import Model, Input\n",
    "from keras.layers.merge import add\n",
    "from keras.layers import LSTM, Embedding, Dense, TimeDistributed, Dropout, Bidirectional, Lambda, Flatten\n",
    "\n",
    "\n",
    "################################ Model Initialization ##########################################################3\n",
    "'''\n",
    "   Model Construction\n",
    "   \n",
    "'''\n",
    "\n",
    "\n",
    "class NRE():\n",
    "    \n",
    "    def __init__(self):\n",
    "        '''\n",
    "             Initializes model for NER\n",
    "                 model : instance of constructed model\n",
    "        '''\n",
    "        \n",
    "        input_text = Input(shape=(d.max_len,), dtype=tf.string)\n",
    "\n",
    "        ############ Embedding Layer for Elmo Embedding  ##########\n",
    "\n",
    "        embedding = Lambda(ElmoEmbedding, output_shape=(d.max_len, 1024))(input_text)\n",
    "\n",
    "         ############ Bi Directional LSTM for tackling flows from both directions ##########\n",
    "\n",
    "        x = Bidirectional(LSTM(units=512, return_sequences=True,\n",
    "                               recurrent_dropout=0.2, dropout=0.2))(embedding)\n",
    "         ############ Bi Directional LSTM for tackling flows from both directions ##########\n",
    "\n",
    "        x_rnn = Bidirectional(LSTM(units=512, return_sequences=True,\n",
    "                                   recurrent_dropout=0.2, dropout=0.2))(x)\n",
    "        ############ Skip Connectional for residual Learning ##########\n",
    "\n",
    "        x = add([x, x_rnn])  \n",
    "\n",
    "        out = TimeDistributed(Dense(len(d.tags), activation=\"softmax\"))(x)\n",
    "\n",
    "        self.model = Model(input_text, out)\n",
    "\n",
    "        self.model.summary()\n",
    "    def compile_model(self, opt = \"adam\", loss = \"sparse_categorical_crossentropy\"):\n",
    "        \n",
    "\n",
    "        '''\n",
    "            Compilation of Model\n",
    "                optimizer = \"adam\"\n",
    "                loss = \"Sparse Categorical Cross Entropy\"\n",
    "        '''\n",
    "        \n",
    "        \n",
    "        self.model.compile(optimizer=\"adam\", loss=\"sparse_categorical_crossentropy\", metrics=[\"accuracy\"])\n",
    "        \n",
    "    def train_model(self, Xtr, Ytr, Xval, Yval, batch_size =2 , epoch = 2):\n",
    "        \n",
    "        '''\n",
    "            Train Model\n",
    "                Xtr, Ytr : training data\n",
    "                Yval, Yval : Validation data\n",
    "                batch_size = 2 (default)\n",
    "                epoch = 2 (default)\n",
    "                \n",
    "        \n",
    "        '''\n",
    "        history = self.model.fit(Xtr, Ytr, validation_data=(Xval[:-1], Yval[:-1]), batch_size=batch_size, epochs=epoch, verbose=1)\n",
    "        return history\n",
    "        "
   ]
  },
  {
   "cell_type": "code",
   "execution_count": 8,
   "metadata": {},
   "outputs": [
    {
     "name": "stdout",
     "output_type": "stream",
     "text": [
      "INFO:tensorflow:Saver not created because there are no variables in the graph to restore\n"
     ]
    },
    {
     "name": "stderr",
     "output_type": "stream",
     "text": [
      "INFO:tensorflow:Saver not created because there are no variables in the graph to restore\n"
     ]
    },
    {
     "name": "stdout",
     "output_type": "stream",
     "text": [
      "WARNING:tensorflow:From C:\\Users\\rimsh\\AppData\\Roaming\\Python\\Python37\\site-packages\\tensorflow_core\\python\\ops\\resource_variable_ops.py:1630: calling BaseResourceVariable.__init__ (from tensorflow.python.ops.resource_variable_ops) with constraint is deprecated and will be removed in a future version.\n",
      "Instructions for updating:\n",
      "If using Keras pass *_constraint arguments to layers.\n"
     ]
    },
    {
     "name": "stderr",
     "output_type": "stream",
     "text": [
      "WARNING:tensorflow:From C:\\Users\\rimsh\\AppData\\Roaming\\Python\\Python37\\site-packages\\tensorflow_core\\python\\ops\\resource_variable_ops.py:1630: calling BaseResourceVariable.__init__ (from tensorflow.python.ops.resource_variable_ops) with constraint is deprecated and will be removed in a future version.\n",
      "Instructions for updating:\n",
      "If using Keras pass *_constraint arguments to layers.\n"
     ]
    },
    {
     "name": "stdout",
     "output_type": "stream",
     "text": [
      "Model: \"model_1\"\n",
      "__________________________________________________________________________________________________\n",
      "Layer (type)                    Output Shape         Param #     Connected to                     \n",
      "==================================================================================================\n",
      "input_1 (InputLayer)            (None, 50)           0                                            \n",
      "__________________________________________________________________________________________________\n",
      "lambda_1 (Lambda)               (None, 50, 1024)     0           input_1[0][0]                    \n",
      "__________________________________________________________________________________________________\n",
      "bidirectional_1 (Bidirectional) (None, 50, 1024)     6295552     lambda_1[0][0]                   \n",
      "__________________________________________________________________________________________________\n",
      "bidirectional_2 (Bidirectional) (None, 50, 1024)     6295552     bidirectional_1[0][0]            \n",
      "__________________________________________________________________________________________________\n",
      "add_1 (Add)                     (None, 50, 1024)     0           bidirectional_1[0][0]            \n",
      "                                                                 bidirectional_2[0][0]            \n",
      "__________________________________________________________________________________________________\n",
      "time_distributed_1 (TimeDistrib (None, 50, 22)       22550       add_1[0][0]                      \n",
      "==================================================================================================\n",
      "Total params: 12,613,654\n",
      "Trainable params: 12,613,654\n",
      "Non-trainable params: 0\n",
      "__________________________________________________________________________________________________\n"
     ]
    }
   ],
   "source": [
    "nre = NRE()\n",
    "nre.compile_model()"
   ]
  },
  {
   "cell_type": "code",
   "execution_count": 9,
   "metadata": {},
   "outputs": [
    {
     "name": "stdout",
     "output_type": "stream",
     "text": [
      "X_tr shape:  (1556, 50)\n",
      "Y_tr shape:  (1556, 50)\n"
     ]
    }
   ],
   "source": [
    "val_split = int(0.9 * Xtr.shape[0])\n",
    "\n",
    "X_tr, X_val = Xtr[:val_split], Xtr[val_split:]\n",
    "\n",
    "y_tr, y_val = Ytr[:val_split], Ytr[val_split: ]\n",
    "\n",
    "\n",
    "############################ Space Efficiency ##########\n",
    "\n",
    "space_remove(Xtr)\n",
    "space_remove(Ytr)\n",
    "\n",
    "print(\"X_tr shape: \", X_tr.shape)\n",
    "print(\"Y_tr shape: \",y_tr.shape)\n",
    "\n",
    "\n",
    "y_tr , y_val = y_tr[..., None], y_val[..., None]"
   ]
  },
  {
   "cell_type": "code",
   "execution_count": null,
   "metadata": {},
   "outputs": [
    {
     "name": "stdout",
     "output_type": "stream",
     "text": [
      "WARNING:tensorflow:From C:\\Users\\rimsh\\AppData\\Roaming\\Python\\Python37\\site-packages\\tensorflow_core\\python\\ops\\math_grad.py:1424: where (from tensorflow.python.ops.array_ops) is deprecated and will be removed in a future version.\n",
      "Instructions for updating:\n",
      "Use tf.where in 2.0, which has the same broadcast rule as np.where\n"
     ]
    },
    {
     "name": "stderr",
     "output_type": "stream",
     "text": [
      "WARNING:tensorflow:From C:\\Users\\rimsh\\AppData\\Roaming\\Python\\Python37\\site-packages\\tensorflow_core\\python\\ops\\math_grad.py:1424: where (from tensorflow.python.ops.array_ops) is deprecated and will be removed in a future version.\n",
      "Instructions for updating:\n",
      "Use tf.where in 2.0, which has the same broadcast rule as np.where\n"
     ]
    },
    {
     "name": "stdout",
     "output_type": "stream",
     "text": [
      "WARNING:tensorflow:From C:\\Users\\rimsh\\Anaconda3\\lib\\site-packages\\keras\\backend\\tensorflow_backend.py:422: The name tf.global_variables is deprecated. Please use tf.compat.v1.global_variables instead.\n",
      "\n"
     ]
    },
    {
     "name": "stderr",
     "output_type": "stream",
     "text": [
      "WARNING:tensorflow:From C:\\Users\\rimsh\\Anaconda3\\lib\\site-packages\\keras\\backend\\tensorflow_backend.py:422: The name tf.global_variables is deprecated. Please use tf.compat.v1.global_variables instead.\n",
      "\n"
     ]
    },
    {
     "name": "stdout",
     "output_type": "stream",
     "text": [
      "WARNING:tensorflow:From C:\\Users\\rimsh\\Anaconda3\\lib\\site-packages\\keras\\backend\\tensorflow_backend.py:431: The name tf.is_variable_initialized is deprecated. Please use tf.compat.v1.is_variable_initialized instead.\n",
      "\n"
     ]
    },
    {
     "name": "stderr",
     "output_type": "stream",
     "text": [
      "WARNING:tensorflow:From C:\\Users\\rimsh\\Anaconda3\\lib\\site-packages\\keras\\backend\\tensorflow_backend.py:431: The name tf.is_variable_initialized is deprecated. Please use tf.compat.v1.is_variable_initialized instead.\n",
      "\n"
     ]
    },
    {
     "name": "stdout",
     "output_type": "stream",
     "text": [
      "Train on 1556 samples, validate on 172 samples\n",
      "Epoch 1/2\n",
      " 576/1556 [==========>...................] - ETA: 25:24 - loss: 0.1094 - accuracy: 0.9783"
     ]
    }
   ],
   "source": [
    "############################# Model Training ##########################################33\n",
    "train = True\n",
    "if train:\n",
    "    hist = nre.train_model(X_tr, y_tr, X_val, y_val)\n",
    "    nre.model.save_weights(\"nre.h5\")\n",
    "else:\n",
    "    nre.model.load_weights(\"nre\")\n"
   ]
  },
  {
   "cell_type": "code",
   "execution_count": null,
   "metadata": {},
   "outputs": [],
   "source": [
    "\"\"\"\n",
    "    Evaluate Model on Test dataset\n",
    "\n",
    "\"\"\"\n",
    "\n",
    "acc = nre.model.evaluate(Xts[:-1], Yts[:-1][..., None], batch_size = 2)[1]\n",
    "print(\"Test Accuracy: {}\".format(acc))"
   ]
  },
  {
   "cell_type": "code",
   "execution_count": 12,
   "metadata": {},
   "outputs": [],
   "source": [
    "from nltk import word_tokenize \n",
    "idx2tags = {i:t for t, i in d.tags2index.items()}\n",
    "\n",
    "class NER_tester():\n",
    "    \n",
    "    \n",
    "    def __init__(self, text):\n",
    "        '''\n",
    "            input:\n",
    "                text : text string to be tested\n",
    "            Output:\n",
    "                print predicted entities\n",
    "        '''\n",
    "        \n",
    "        d_text = self.construct_test(test)\n",
    "        ############### predict labels ###############\n",
    "        pred_labels  = nre.model.predict(d_text)\n",
    "        \n",
    "        self.indices2tags(d_text, pred_labels)\n",
    "        \n",
    "    def construct_test(self, test):\n",
    "        \n",
    "        '''\n",
    "        prepare test  string data for  model\n",
    "        input:\n",
    "          test string\n",
    "        outpur:\n",
    "          preprocessed string\n",
    "        '''\n",
    "\n",
    "\n",
    "        test = word_tokenize(test)\n",
    "\n",
    "        test =[t for t in test if t.isalpha()]\n",
    "        \n",
    "        ################## assert length of sentence is less than max_len #################\n",
    "        assert len(test)<= d.max_len\n",
    "\n",
    "        #################### Pad array to be equal to batch size for elmo embedding ############### \n",
    "        \n",
    "        test += [\"PADword\"]*(d.max_len -  len(test))\n",
    "        \n",
    "\n",
    "        return np.concatenate([np.array(test)[None, :], np.array([\"PADword\"]*d.max_len)[None, :]], axis = 0)\n",
    "    \n",
    "    def indices2tags(self, text, preds):\n",
    "        '''\n",
    "        Convert model prediction into tags and print predict entities\n",
    "\n",
    "        input:\n",
    "            text: test string\n",
    "            preds: model prediction\n",
    "        output:\n",
    "            print import entities and probabilities\n",
    "\n",
    "        '''\n",
    "\n",
    "        assert text.shape[0]>1\n",
    "        ############ Only first sample is useful, strip away padded information #################\n",
    "        \n",
    "        text = text[0]\n",
    "        preds = preds[0]\n",
    "        \n",
    "        for i, p in enumerate(preds):\n",
    "            label = idx2tags[np.argmax(p)]\n",
    "\n",
    "            actual = \"\"\n",
    "            \n",
    "            ################  Print only identified entities ###########\n",
    "         \n",
    "            if label != \"O\":\n",
    "\n",
    "               sort_labels = [(idx2tags[k], prob)  for k, prob in enumerate(p)]\n",
    "               \n",
    "               ################ Sort Lables according to Probability ###########\n",
    "\n",
    "               sort_labels.sort(key = lambda x: x[1], reverse = True)\n",
    "\n",
    "               for t, prob in sort_labels:\n",
    "                    \n",
    "                    ################## For all labels format upto 2 decimal for peobability ###########\n",
    "                    if t != \"O\":\n",
    "                        actual +=  t + \" {:.02f}\".format(prob) + \"| \"   \n",
    "\n",
    "               print(text[i])\n",
    "               print(label)\n",
    "               print(actual)"
   ]
  },
  {
   "cell_type": "code",
   "execution_count": 14,
   "metadata": {},
   "outputs": [
    {
     "name": "stdout",
     "output_type": "stream",
     "text": [
      "USA\n",
      "B-geo-loc\n",
      "B-geo-loc 0.96| B-company 0.01| B-facility 0.01| I-geo-loc 0.00| B-person 0.00| B-other 0.00| B-musicartist 0.00| B-product 0.00| I-other 0.00| B-sportsteam 0.00| I-facility 0.00| I-person 0.00| B-movie 0.00| B-tvshow 0.00| I-company 0.00| I-sportsteam 0.00| I-product 0.00| I-musicartist 0.00| I-movie 0.00| I-tvshow 0.00| nan 0.00| \n"
     ]
    },
    {
     "data": {
      "text/plain": [
       "<__main__.NER_tester at 0x2545abe2eb8>"
      ]
     },
     "execution_count": 14,
     "metadata": {},
     "output_type": "execute_result"
    }
   ],
   "source": [
    "######################### Please Enter Input String of length less than 50 ##############################\n",
    "\n",
    "test = \"I live in USA.\"\n",
    "\n",
    "NER_tester(test)"
   ]
  },
  {
   "cell_type": "code",
   "execution_count": null,
   "metadata": {},
   "outputs": [],
   "source": []
  }
 ],
 "metadata": {
  "kernelspec": {
   "display_name": "Python 3",
   "language": "python",
   "name": "python3"
  },
  "language_info": {
   "codemirror_mode": {
    "name": "ipython",
    "version": 3
   },
   "file_extension": ".py",
   "mimetype": "text/x-python",
   "name": "python",
   "nbconvert_exporter": "python",
   "pygments_lexer": "ipython3",
   "version": "3.7.3"
  }
 },
 "nbformat": 4,
 "nbformat_minor": 2
}
